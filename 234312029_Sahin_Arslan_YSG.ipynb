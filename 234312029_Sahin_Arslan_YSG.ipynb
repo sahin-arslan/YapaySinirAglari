{
  "nbformat": 4,
  "nbformat_minor": 0,
  "metadata": {
    "colab": {
      "provenance": [],
      "mount_file_id": "1Soo6LeVKuvcbkgs_GiBD-gcKB_OQ0Da8",
      "authorship_tag": "ABX9TyM65m/LQzvmfExLRDTOd0o+",
      "include_colab_link": true
    },
    "kernelspec": {
      "name": "python3",
      "display_name": "Python 3"
    },
    "language_info": {
      "name": "python"
    }
  },
  "cells": [
    {
      "cell_type": "markdown",
      "metadata": {
        "id": "view-in-github",
        "colab_type": "text"
      },
      "source": [
        "<a href=\"https://colab.research.google.com/github/sahin-arslan/YapaySinirAglari/blob/main/234312029_Sahin_Arslan_YSG.ipynb\" target=\"_parent\"><img src=\"https://colab.research.google.com/assets/colab-badge.svg\" alt=\"Open In Colab\"/></a>"
      ]
    },
    {
      "cell_type": "markdown",
      "source": [
        "## 1. Gerekli Kütüphanelerin Yüklenmesi\n",
        "\n",
        "\n",
        "*   pandas, numpy (veri işleme)\n",
        "*   sklearn, keras (model oluşturma, veri ayırma, performans metrikleri)\n",
        "*   matplotlib ve seaborn (görselleştirme)\n",
        "\n",
        "\n"
      ],
      "metadata": {
        "id": "knbFjWuUsZ09"
      }
    },
    {
      "cell_type": "markdown",
      "source": [
        "## 2. Veri Seti Yükleme ve Ön İşleme\n",
        "\n"
      ],
      "metadata": {
        "id": "zGnK5m9Us4MM"
      }
    },
    {
      "cell_type": "markdown",
      "source": [
        "**1. Veri Yükleme:**"
      ],
      "metadata": {
        "id": "NN4-xDMRtOYH"
      }
    },
    {
      "cell_type": "code",
      "source": [
        "from PIL import Image\n",
        "\n",
        "# Resmi yükle\n",
        "image = Image.open('00002.ppm')\n",
        "\n",
        "# Resmi görüntüle\n",
        "display(image)"
      ],
      "metadata": {
        "id": "ZO5G-yzDMg9I",
        "outputId": "b767cb8a-1dbd-4cf0-bd1c-0860e6534649",
        "colab": {
          "base_uri": "https://localhost:8080/",
          "height": 50
        }
      },
      "execution_count": 2,
      "outputs": [
        {
          "output_type": "display_data",
          "data": {
            "text/plain": [
              "<PIL.PpmImagePlugin.PpmImageFile image mode=RGB size=33x33>"
            ],
            "image/png": "[encoded data removed]",
            "image/jpeg": "[encoded data removed]"
          },
          "metadata": {}
        }
      ]
    }
  ]
}